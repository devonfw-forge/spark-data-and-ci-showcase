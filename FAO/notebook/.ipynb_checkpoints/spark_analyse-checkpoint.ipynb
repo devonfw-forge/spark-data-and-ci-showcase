{
 "cells": [
  {
   "cell_type": "code",
   "execution_count": 1,
   "metadata": {},
   "outputs": [],
   "source": [
    "from pyspark import SparkContext\n",
    "from pyspark import SQLContext\n",
    "from operator import add\n",
    "from pyspark.sql import SparkSession\n",
    "import matplotlib.pyplot as plt\n",
    "import plotly.graph_objects as go"
   ]
  },
  {
   "cell_type": "code",
   "execution_count": 2,
   "metadata": {},
   "outputs": [],
   "source": [
    "sc = SparkContext(\"local\", \"First App\")"
   ]
  },
  {
   "cell_type": "code",
   "execution_count": 19,
   "metadata": {},
   "outputs": [],
   "source": [
    "class Spark():\n",
    "    \n",
    "    def __init__(self,context):\n",
    "        sc = context\n",
    "        sqlCtx = SQLContext(sc)\n",
    "        self.df = sqlCtx.read.json(\"FAOdatabase.json\",  multiLine=True)\n",
    "        self.sparksession = SparkSession.builder.getOrCreate()\n",
    "        \n",
    "    def list_countries(self):\n",
    "        return self.df.rdd.map(lambda line: line[0]).distinct().collect()\n",
    "    \n",
    "    def countries_productions(self):\n",
    "        return self.df.rdd.map(lambda line: (line[0], [line[5]])).reduceByKey(lambda accum, n: accum + n).collect()\n",
    "    \n",
    "    def production_sum(self):\n",
    "        \n",
    "        dicc = {}\n",
    "        for year in range(1961,2014):\n",
    "            dicc['Y'+ str(year)] = 'sum'\n",
    "\n",
    "        prod_years = self.df.agg(dicc).schema.names\n",
    "        prod_sum = self.df.agg(dicc).rdd.map(lambda line: line[0:54]).collect()[0]\n",
    "        \n",
    "        Sum = []\n",
    "        for i,elt in enumerate(prod_years):\n",
    "            Sum.append([elt[5:9],prod_sum[i]])\n",
    "\n",
    "        Sum_ordered = sorted(Sum, key=lambda tup: tup[0])\n",
    "\n",
    "        return  self.sparksession.createDataFrame(Sum_ordered)\n",
    "    \n",
    "    def plot_production_sum(self):\n",
    "        \n",
    "        df2 = self.production_sum()\n",
    "        \n",
    "        x = [int(row['_1']) for row in  df2.select('_1').collect()]\n",
    "        y = [int(row['_2']) for row in df2.select('_2').collect()]\n",
    "\n",
    "        plt.plot(x,y)\n",
    "        plt.show()\n",
    "        \n",
    "    def add_geo_zone(self):\n",
    "        df_geo = self.sparksession \\\n",
    "            .read \\\n",
    "            .format('csv') \\\n",
    "            .options(header='true', inferSchema='true', delimiter=';') \\\n",
    "            .load('./Book1.csv')\n",
    "\n",
    "        return self.df.join(df_geo, self.df.Area == df_geo.Country)\n",
    "    \n",
    "    def zones_production(self):\n",
    "        df_extended = self.add_geo_zone()\n",
    "               \n",
    "        dicc = {}\n",
    "        for year in range(1961,2014):\n",
    "            dicc['Y'+ str(year)] = 'sum'\n",
    "    \n",
    "        prod_by_zones = {}\n",
    "        for year in range(1961,2014):\n",
    "            prod_by_zones[str(year)] = []\n",
    "    \n",
    "        for zone in ['Asia & Pacific', 'Europe', 'Arab States', 'Africa','South/Latin America', 'Unknown', 'North America']:\n",
    "    \n",
    "            prod_years = df_extended.filter(df_extended.Zone == zone).agg(dicc).schema.names\n",
    "            prod_sum = df_extended.filter(df_extended.Zone == zone).agg(dicc).rdd.map(lambda line: line[0:54]).collect()[0]\n",
    "              \n",
    "            Sum = []\n",
    "            for i,elt in enumerate(prod_years):\n",
    "                Sum.append([elt[5:9],prod_sum[i]])\n",
    "\n",
    "            Sum_ordered = sorted(Sum, key=lambda tup: tup[0])\n",
    "\n",
    "            for year in Sum_ordered:\n",
    "                prod_by_zones[year[0]] = prod_by_zones[year[0]] + [(zone,year[1])]\n",
    "            \n",
    "        return prod_by_zones\n",
    "    \n",
    "    def plot_zones_production(self):\n",
    "        dicc_prod_by_zones = self.zones_production()\n",
    "        AP=[]\n",
    "        E=[]\n",
    "        AS=[]\n",
    "        A=[]\n",
    "        SA=[]\n",
    "        U=[]\n",
    "        NA=[]\n",
    "\n",
    "        years = [str(x) for x in range(1961,2014)]\n",
    "\n",
    "        for year in years:\n",
    "            AP.append(dicc_prod_by_zones[year][0][1])\n",
    "            E.append(dicc_prod_by_zones[year][1][1])\n",
    "            AS.append(dicc_prod_by_zones[year][2][1])\n",
    "            A.append(dicc_prod_by_zones[year][3][1])\n",
    "            SA.append(dicc_prod_by_zones[year][4][1])\n",
    "            U.append(dicc_prod_by_zones[year][5][1])\n",
    "            NA.append(dicc_prod_by_zones[year][6][1])\n",
    "\n",
    "        fig = go.Figure()\n",
    "        fig.add_trace(go.Bar(\n",
    "            y=years,\n",
    "            x=AP,\n",
    "            name='Asia & Pacific',\n",
    "            orientation='h',\n",
    "            marker=dict(\n",
    "                color='red',\n",
    "                line=dict(color='black', width=0.25)\n",
    "            )\n",
    "        ))\n",
    "        fig.add_trace(go.Bar(\n",
    "            y=years,\n",
    "            x=E,\n",
    "            name='Europe',\n",
    "            orientation='h',\n",
    "            marker=dict(\n",
    "                color='blue',\n",
    "                line=dict(color='black', width=0.25)\n",
    "            )\n",
    "        ))\n",
    "        fig.add_trace(go.Bar(\n",
    "            y=years,\n",
    "            x=AS,\n",
    "            name='Arab States',\n",
    "            orientation='h',\n",
    "            marker=dict(\n",
    "                color='green',\n",
    "                line=dict(color='black', width=0.25)\n",
    "            )\n",
    "        ))\n",
    "        fig.add_trace(go.Bar(\n",
    "            y=years,\n",
    "            x=A,\n",
    "            name='Africa',\n",
    "            orientation='h',\n",
    "            marker=dict(\n",
    "                color='yellow',\n",
    "                line=dict(color='black', width=0.25)\n",
    "            )\n",
    "        ))\n",
    "        fig.add_trace(go.Bar(\n",
    "            y=years,\n",
    "            x=SA,\n",
    "            name='South/Latin America',\n",
    "            orientation='h',\n",
    "            marker=dict(\n",
    "                color='orange',\n",
    "                line=dict(color='black', width=0.25)\n",
    "            )\n",
    "        ))\n",
    "        fig.add_trace(go.Bar(\n",
    "            y=years,\n",
    "            x=NA,\n",
    "            name='North America',\n",
    "            orientation='h',\n",
    "            marker=dict(\n",
    "                color='magenta',\n",
    "                line=dict(color='black', width=0.25)\n",
    "            )\n",
    "        ))\n",
    "\n",
    "        fig.update_layout(barmode='stack')\n",
    "        fig.show()\n",
    "        \n",
    "    def production_world(self, year):\n",
    "        year_selected ={'Y' + str(year) :'sum'}\n",
    "        \n",
    "        prod = {}\n",
    "        for country in self.list_countries():\n",
    "            prod[country] = self.df.filter(self.df.Area == country).agg(year_selected).rdd.map(lambda line: line[0]).collect()[0]\n",
    "        \n",
    "        for elt in list(prod.items()):\n",
    "            if prod[elt[0]]== None:\n",
    "                prod[elt[0]]=0\n",
    "                \n",
    "        return prod\n",
    "    \n",
    "    \n",
    "    def countries_coor(self):\n",
    "        \n",
    "        coor = self.df.select(*( self.df.columns[i] for i in [0,61,62] )).distinct().rdd.map(lambda line: (line[0], line[1], line[2])).collect()\n",
    "        return self.sparksession.createDataFrame(coor)\n",
    "    \n",
    "    \n",
    "    def plot_production_world(self,year):\n",
    "        coor = self.countries_coor()\n",
    "            \n",
    "        lati = [int(row['_2']) for row in   coor.select('_2').collect()]\n",
    "        long = [int(row['_3']) for row in   coor.select('_3').collect()]\n",
    "        name = [row['_1'] for row in   coor.select('_1').collect()]\n",
    "\n",
    "        N = {}\n",
    "        for i,elt in enumerate(name):\n",
    "            N[elt] = (lati[i],long[i])\n",
    "\n",
    "        N1 = list(N.items())\n",
    "        N2 = sorted(N1, key=lambda tup: tup[0]) \n",
    "\n",
    "        produc = list(self.production_world(year).values())\n",
    "\n",
    "        latitude = []\n",
    "        longitude = []\n",
    "        names = []\n",
    "        for elt in N2:\n",
    "            latitude.append(elt[1][0])\n",
    "            longitude.append(elt[1][1])\n",
    "            names.append(elt[0])\n",
    "            \n",
    "        fig = go.Figure(data=go.Scattergeo(\n",
    "                lon = longitude,\n",
    "                lat = latitude,\n",
    "                text = names,\n",
    "                mode = 'markers',\n",
    "                marker = dict(\n",
    "                    size = 8,\n",
    "                    opacity = 0.8,\n",
    "                    reversescale = False,\n",
    "                    autocolorscale = False,\n",
    "                    symbol = 'square',\n",
    "                    line = dict(\n",
    "                        width=1,\n",
    "                        color='rgba(102, 102, 102)'\n",
    "                    ),\n",
    "                    colorscale = 'Blues',\n",
    "                    cmin = 0,\n",
    "                    color = produc,\n",
    "                    cmax =100000,\n",
    "                    colorbar_title=\"Food production (1000 tonnes)\"\n",
    "                )))\n",
    "\n",
    "        fig.update_layout(\n",
    "                title = 'Countries 2013',\n",
    "                geo = dict(\n",
    "                    scope='world',\n",
    "                    #projection_type='albers usa',\n",
    "                    showland = True,\n",
    "                    landcolor = \"rgb(250, 250, 250)\",\n",
    "                    subunitcolor = \"rgb(217, 217, 217)\",\n",
    "                    countrycolor = \"rgb(217, 217, 217)\",\n",
    "                    countrywidth = 0.5,\n",
    "                    subunitwidth = 0.5\n",
    "                ),\n",
    "            )\n",
    "\n",
    "        fig.show()\n",
    "\n",
    "            \n",
    "            \n",
    "            \n",
    "            \n",
    "            "
   ]
  },
  {
   "cell_type": "code",
   "execution_count": 20,
   "metadata": {},
   "outputs": [
    {
     "data": {
      "application/vnd.plotly.v1+json": {
       "config": {
        "plotlyServerURL": "https://plot.ly"
       },
       "data": [
        {
         "lat": [
          33,
          41,
          28,
          -11,
          17,
          -38,
          40,
          -25,
          47,
          40,
          25,
          23,
          13,
          53,
          50,
          17,
          9,
          32,
          -16,
          43,
          -22,
          -14,
          4,
          42,
          12,
          16,
          12,
          7,
          56,
          6,
          15,
          -35,
          22,
          22,
          23,
          35,
          4,
          0,
          9,
          45,
          21,
          35,
          49,
          7,
          40,
          56,
          11,
          15,
          18,
          -1,
          26,
          13,
          58,
          9,
          -16,
          61,
          46,
          -17,
          0,
          13,
          42,
          51,
          7,
          39,
          12,
          15,
          9,
          11,
          4,
          18,
          15,
          47,
          64,
          20,
          0,
          32,
          33,
          53,
          31,
          41,
          18,
          36,
          30,
          48,
          0,
          -3,
          29,
          41,
          19,
          56,
          33,
          -29,
          6,
          55,
          49,
          -18,
          -13,
          4,
          3,
          17,
          35,
          21,
          -20,
          23,
          46,
          42,
          31,
          -18,
          21,
          -22,
          28,
          52,
          -20,
          -40,
          12,
          17,
          9,
          60,
          21,
          30,
          8,
          -23,
          -9,
          12,
          51,
          39,
          35,
          47,
          45,
          61,
          -1,
          17,
          13,
          12,
          -13,
          0,
          23,
          14,
          44,
          8,
          48,
          46,
          -9,
          -30,
          40,
          7,
          12,
          3,
          -26,
          60,
          46,
          38,
          15,
          41,
          -8,
          8,
          10,
          33,
          38,
          38,
          1,
          48,
          23,
          55,
          -6,
          37,
          -32,
          41,
          -15,
          6,
          14,
          15,
          -13,
          -19
         ],
         "lon": [
          67,
          20,
          1,
          17,
          -61,
          -63,
          45,
          133,
          14,
          47,
          -77,
          90,
          -59,
          27,
          4,
          -88,
          2,
          -64,
          -63,
          17,
          24,
          -51,
          114,
          25,
          -1,
          -24,
          104,
          12,
          -106,
          20,
          18,
          -71,
          114,
          113,
          120,
          104,
          -74,
          15,
          -83,
          15,
          -77,
          33,
          15,
          -5,
          127,
          9,
          42,
          -61,
          -70,
          -78,
          30,
          -88,
          25,
          40,
          179,
          25,
          2,
          -149,
          11,
          -15,
          43,
          10,
          -1,
          21,
          -61,
          -90,
          -9,
          -15,
          -58,
          -72,
          -86,
          19,
          -19,
          78,
          113,
          53,
          43,
          -8,
          34,
          12,
          -77,
          138,
          36,
          66,
          37,
          -168,
          47,
          74,
          102,
          24,
          35,
          28,
          -9,
          23,
          6,
          46,
          34,
          101,
          73,
          -4,
          14,
          -10,
          57,
          -102,
          103,
          19,
          -7,
          35,
          95,
          18,
          84,
          5,
          165,
          174,
          -85,
          8,
          8,
          8,
          55,
          69,
          -80,
          -58,
          -75,
          121,
          19,
          -8,
          127,
          28,
          24,
          105,
          29,
          -62,
          -60,
          -61,
          -172,
          6,
          45,
          -14,
          21,
          -11,
          19,
          15,
          160,
          22,
          -3,
          80,
          30,
          -56,
          31,
          18,
          8,
          71,
          100,
          21,
          125,
          0,
          -61,
          9,
          35,
          59,
          32,
          31,
          53,
          -3,
          34,
          -95,
          -55,
          64,
          166,
          -66,
          108,
          48,
          27,
          29
         ],
         "marker": {
          "autocolorscale": false,
          "cmax": 100000,
          "cmin": 0,
          "color": [
           23007,
           8271,
           72161,
           48639,
           119,
           80843,
           7175,
           62446,
           24990,
           20162,
           629,
           120854,
           469,
           37852,
           33336,
           552,
           16481,
           106,
           13515,
           8456,
           2272,
           439967,
           547,
           12335,
           18980,
           721,
           13635,
           34852,
           120167,
           4187,
           8401,
           32900,
           11756,
           739,
           3191155,
           40725,
           76844,
           5200,
           8267,
           28163,
           11467,
           26974,
           2243,
           23978,
           24480,
           27260,
           791,
           179,
           16879,
           19550,
           162084,
           8355,
           3864,
           68096,
           1246,
           16183,
           166079,
           412,
           3037,
           1438,
           6538,
           218891,
           54723,
           32742,
           150,
           15415,
           12718,
           1230,
           1683,
           9166,
           9093,
           23635,
           818,
           1336593,
           256888,
           146155,
           37277,
           18160,
           19313,
           153450,
           4216,
           188113,
           10980,
           47099,
           48597,
           135,
           7167,
           12527,
           10596,
           4764,
           8682,
           1803,
           3380,
           10206,
           1511,
           21174,
           25233,
           38992,
           559,
           17046,
           1003,
           4071,
           1794,
           210121,
           3702,
           1848,
           55676,
           28517,
           74909,
           2800,
           36644,
           53832,
           418,
           11071,
           6013,
           17840,
           300923,
           15228,
           6297,
           190505,
           5560,
           15630,
           47731,
           113186,
           110067,
           28049,
           97174,
           7946,
           60797,
           370913,
           18547,
           56,
           229,
           221,
           337,
           251,
           59594,
           10729,
           25399,
           7946,
           10122,
           4495,
           727,
           70240,
           137594,
           21080,
           43661,
           752,
           1383,
           26656,
           19550,
           14092,
           97689,
           4368,
           855,
           6681,
           1949,
           22823,
           180603,
           12054,
           40944,
           153750,
           15444,
           149979,
           59136,
           938639,
           7792,
           67245,
           382,
           45462,
           128111,
           18745,
           10996,
           9786
          ],
          "colorbar": {
           "title": {
            "text": "Food production (1000 tonnes)"
           }
          },
          "colorscale": [
           [
            0,
            "rgb(247,251,255)"
           ],
           [
            0.125,
            "rgb(222,235,247)"
           ],
           [
            0.25,
            "rgb(198,219,239)"
           ],
           [
            0.375,
            "rgb(158,202,225)"
           ],
           [
            0.5,
            "rgb(107,174,214)"
           ],
           [
            0.625,
            "rgb(66,146,198)"
           ],
           [
            0.75,
            "rgb(33,113,181)"
           ],
           [
            0.875,
            "rgb(8,81,156)"
           ],
           [
            1,
            "rgb(8,48,107)"
           ]
          ],
          "line": {
           "color": "rgba(102, 102, 102)",
           "width": 1
          },
          "opacity": 0.8,
          "reversescale": false,
          "size": 8,
          "symbol": "square"
         },
         "mode": "markers",
         "text": [
          "Afghanistan",
          "Albania",
          "Algeria",
          "Angola",
          "Antigua and Barbuda",
          "Argentina",
          "Armenia",
          "Australia",
          "Austria",
          "Azerbaijan",
          "Bahamas",
          "Bangladesh",
          "Barbados",
          "Belarus",
          "Belgium",
          "Belize",
          "Benin",
          "Bermuda",
          "Bolivia (Plurinational State of)",
          "Bosnia and Herzegovina",
          "Botswana",
          "Brazil",
          "Brunei Darussalam",
          "Bulgaria",
          "Burkina Faso",
          "Cabo Verde",
          "Cambodia",
          "Cameroon",
          "Canada",
          "Central African Republic",
          "Chad",
          "Chile",
          "China, Hong Kong SAR",
          "China, Macao SAR",
          "China, Taiwan Province of",
          "China, mainland",
          "Colombia",
          "Congo",
          "Costa Rica",
          "Croatia",
          "Cuba",
          "Cyprus",
          "Czechia",
          "C�te d'Ivoire",
          "Democratic People's Republic of Korea",
          "Denmark",
          "Djibouti",
          "Dominica",
          "Dominican Republic",
          "Ecuador",
          "Egypt",
          "El Salvador",
          "Estonia",
          "Ethiopia",
          "Fiji",
          "Finland",
          "France",
          "French Polynesia",
          "Gabon",
          "Gambia",
          "Georgia",
          "Germany",
          "Ghana",
          "Greece",
          "Grenada",
          "Guatemala",
          "Guinea",
          "Guinea-Bissau",
          "Guyana",
          "Haiti",
          "Honduras",
          "Hungary",
          "Iceland",
          "India",
          "Indonesia",
          "Iran (Islamic Republic of)",
          "Iraq",
          "Ireland",
          "Israel",
          "Italy",
          "Jamaica",
          "Japan",
          "Jordan",
          "Kazakhstan",
          "Kenya",
          "Kiribati",
          "Kuwait",
          "Kyrgyzstan",
          "Lao People's Democratic Republic",
          "Latvia",
          "Lebanon",
          "Lesotho",
          "Liberia",
          "Lithuania",
          "Luxembourg",
          "Madagascar",
          "Malawi",
          "Malaysia",
          "Maldives",
          "Mali",
          "Malta",
          "Mauritania",
          "Mauritius",
          "Mexico",
          "Mongolia",
          "Montenegro",
          "Morocco",
          "Mozambique",
          "Myanmar",
          "Namibia",
          "Nepal",
          "Netherlands",
          "New Caledonia",
          "New Zealand",
          "Nicaragua",
          "Niger",
          "Nigeria",
          "Norway",
          "Oman",
          "Pakistan",
          "Panama",
          "Paraguay",
          "Peru",
          "Philippines",
          "Poland",
          "Portugal",
          "Republic of Korea",
          "Republic of Moldova",
          "Romania",
          "Russian Federation",
          "Rwanda",
          "Saint Kitts and Nevis",
          "Saint Lucia",
          "Saint Vincent and the Grenadines",
          "Samoa",
          "Sao Tome and Principe",
          "Saudi Arabia",
          "Senegal",
          "Serbia",
          "Sierra Leone",
          "Slovakia",
          "Slovenia",
          "Solomon Islands",
          "South Africa",
          "Spain",
          "Sri Lanka",
          "Sudan",
          "Suriname",
          "Swaziland",
          "Sweden",
          "Switzerland",
          "Tajikistan",
          "Thailand",
          "The former Yugoslav Republic of Macedonia",
          "Timor-Leste",
          "Togo",
          "Trinidad and Tobago",
          "Tunisia",
          "Turkey",
          "Turkmenistan",
          "Uganda",
          "Ukraine",
          "United Arab Emirates",
          "United Kingdom",
          "United Republic of Tanzania",
          "United States of America",
          "Uruguay",
          "Uzbekistan",
          "Vanuatu",
          "Venezuela (Bolivarian Republic of)",
          "Viet Nam",
          "Yemen",
          "Zambia",
          "Zimbabwe"
         ],
         "type": "scattergeo"
        }
       ],
       "layout": {
        "geo": {
         "countrycolor": "rgb(217, 217, 217)",
         "countrywidth": 0.5,
         "landcolor": "rgb(250, 250, 250)",
         "scope": "world",
         "showland": true,
         "subunitcolor": "rgb(217, 217, 217)",
         "subunitwidth": 0.5
        },
        "template": {
         "data": {
          "bar": [
           {
            "error_x": {
             "color": "#2a3f5f"
            },
            "error_y": {
             "color": "#2a3f5f"
            },
            "marker": {
             "line": {
              "color": "#E5ECF6",
              "width": 0.5
             }
            },
            "type": "bar"
           }
          ],
          "barpolar": [
           {
            "marker": {
             "line": {
              "color": "#E5ECF6",
              "width": 0.5
             }
            },
            "type": "barpolar"
           }
          ],
          "carpet": [
           {
            "aaxis": {
             "endlinecolor": "#2a3f5f",
             "gridcolor": "white",
             "linecolor": "white",
             "minorgridcolor": "white",
             "startlinecolor": "#2a3f5f"
            },
            "baxis": {
             "endlinecolor": "#2a3f5f",
             "gridcolor": "white",
             "linecolor": "white",
             "minorgridcolor": "white",
             "startlinecolor": "#2a3f5f"
            },
            "type": "carpet"
           }
          ],
          "choropleth": [
           {
            "colorbar": {
             "outlinewidth": 0,
             "ticks": ""
            },
            "type": "choropleth"
           }
          ],
          "contour": [
           {
            "colorbar": {
             "outlinewidth": 0,
             "ticks": ""
            },
            "colorscale": [
             [
              0,
              "#0d0887"
             ],
             [
              0.1111111111111111,
              "#46039f"
             ],
             [
              0.2222222222222222,
              "#7201a8"
             ],
             [
              0.3333333333333333,
              "#9c179e"
             ],
             [
              0.4444444444444444,
              "#bd3786"
             ],
             [
              0.5555555555555556,
              "#d8576b"
             ],
             [
              0.6666666666666666,
              "#ed7953"
             ],
             [
              0.7777777777777778,
              "#fb9f3a"
             ],
             [
              0.8888888888888888,
              "#fdca26"
             ],
             [
              1,
              "#f0f921"
             ]
            ],
            "type": "contour"
           }
          ],
          "contourcarpet": [
           {
            "colorbar": {
             "outlinewidth": 0,
             "ticks": ""
            },
            "type": "contourcarpet"
           }
          ],
          "heatmap": [
           {
            "colorbar": {
             "outlinewidth": 0,
             "ticks": ""
            },
            "colorscale": [
             [
              0,
              "#0d0887"
             ],
             [
              0.1111111111111111,
              "#46039f"
             ],
             [
              0.2222222222222222,
              "#7201a8"
             ],
             [
              0.3333333333333333,
              "#9c179e"
             ],
             [
              0.4444444444444444,
              "#bd3786"
             ],
             [
              0.5555555555555556,
              "#d8576b"
             ],
             [
              0.6666666666666666,
              "#ed7953"
             ],
             [
              0.7777777777777778,
              "#fb9f3a"
             ],
             [
              0.8888888888888888,
              "#fdca26"
             ],
             [
              1,
              "#f0f921"
             ]
            ],
            "type": "heatmap"
           }
          ],
          "heatmapgl": [
           {
            "colorbar": {
             "outlinewidth": 0,
             "ticks": ""
            },
            "colorscale": [
             [
              0,
              "#0d0887"
             ],
             [
              0.1111111111111111,
              "#46039f"
             ],
             [
              0.2222222222222222,
              "#7201a8"
             ],
             [
              0.3333333333333333,
              "#9c179e"
             ],
             [
              0.4444444444444444,
              "#bd3786"
             ],
             [
              0.5555555555555556,
              "#d8576b"
             ],
             [
              0.6666666666666666,
              "#ed7953"
             ],
             [
              0.7777777777777778,
              "#fb9f3a"
             ],
             [
              0.8888888888888888,
              "#fdca26"
             ],
             [
              1,
              "#f0f921"
             ]
            ],
            "type": "heatmapgl"
           }
          ],
          "histogram": [
           {
            "marker": {
             "colorbar": {
              "outlinewidth": 0,
              "ticks": ""
             }
            },
            "type": "histogram"
           }
          ],
          "histogram2d": [
           {
            "colorbar": {
             "outlinewidth": 0,
             "ticks": ""
            },
            "colorscale": [
             [
              0,
              "#0d0887"
             ],
             [
              0.1111111111111111,
              "#46039f"
             ],
             [
              0.2222222222222222,
              "#7201a8"
             ],
             [
              0.3333333333333333,
              "#9c179e"
             ],
             [
              0.4444444444444444,
              "#bd3786"
             ],
             [
              0.5555555555555556,
              "#d8576b"
             ],
             [
              0.6666666666666666,
              "#ed7953"
             ],
             [
              0.7777777777777778,
              "#fb9f3a"
             ],
             [
              0.8888888888888888,
              "#fdca26"
             ],
             [
              1,
              "#f0f921"
             ]
            ],
            "type": "histogram2d"
           }
          ],
          "histogram2dcontour": [
           {
            "colorbar": {
             "outlinewidth": 0,
             "ticks": ""
            },
            "colorscale": [
             [
              0,
              "#0d0887"
             ],
             [
              0.1111111111111111,
              "#46039f"
             ],
             [
              0.2222222222222222,
              "#7201a8"
             ],
             [
              0.3333333333333333,
              "#9c179e"
             ],
             [
              0.4444444444444444,
              "#bd3786"
             ],
             [
              0.5555555555555556,
              "#d8576b"
             ],
             [
              0.6666666666666666,
              "#ed7953"
             ],
             [
              0.7777777777777778,
              "#fb9f3a"
             ],
             [
              0.8888888888888888,
              "#fdca26"
             ],
             [
              1,
              "#f0f921"
             ]
            ],
            "type": "histogram2dcontour"
           }
          ],
          "mesh3d": [
           {
            "colorbar": {
             "outlinewidth": 0,
             "ticks": ""
            },
            "type": "mesh3d"
           }
          ],
          "parcoords": [
           {
            "line": {
             "colorbar": {
              "outlinewidth": 0,
              "ticks": ""
             }
            },
            "type": "parcoords"
           }
          ],
          "scatter": [
           {
            "marker": {
             "colorbar": {
              "outlinewidth": 0,
              "ticks": ""
             }
            },
            "type": "scatter"
           }
          ],
          "scatter3d": [
           {
            "line": {
             "colorbar": {
              "outlinewidth": 0,
              "ticks": ""
             }
            },
            "marker": {
             "colorbar": {
              "outlinewidth": 0,
              "ticks": ""
             }
            },
            "type": "scatter3d"
           }
          ],
          "scattercarpet": [
           {
            "marker": {
             "colorbar": {
              "outlinewidth": 0,
              "ticks": ""
             }
            },
            "type": "scattercarpet"
           }
          ],
          "scattergeo": [
           {
            "marker": {
             "colorbar": {
              "outlinewidth": 0,
              "ticks": ""
             }
            },
            "type": "scattergeo"
           }
          ],
          "scattergl": [
           {
            "marker": {
             "colorbar": {
              "outlinewidth": 0,
              "ticks": ""
             }
            },
            "type": "scattergl"
           }
          ],
          "scattermapbox": [
           {
            "marker": {
             "colorbar": {
              "outlinewidth": 0,
              "ticks": ""
             }
            },
            "type": "scattermapbox"
           }
          ],
          "scatterpolar": [
           {
            "marker": {
             "colorbar": {
              "outlinewidth": 0,
              "ticks": ""
             }
            },
            "type": "scatterpolar"
           }
          ],
          "scatterpolargl": [
           {
            "marker": {
             "colorbar": {
              "outlinewidth": 0,
              "ticks": ""
             }
            },
            "type": "scatterpolargl"
           }
          ],
          "scatterternary": [
           {
            "marker": {
             "colorbar": {
              "outlinewidth": 0,
              "ticks": ""
             }
            },
            "type": "scatterternary"
           }
          ],
          "surface": [
           {
            "colorbar": {
             "outlinewidth": 0,
             "ticks": ""
            },
            "colorscale": [
             [
              0,
              "#0d0887"
             ],
             [
              0.1111111111111111,
              "#46039f"
             ],
             [
              0.2222222222222222,
              "#7201a8"
             ],
             [
              0.3333333333333333,
              "#9c179e"
             ],
             [
              0.4444444444444444,
              "#bd3786"
             ],
             [
              0.5555555555555556,
              "#d8576b"
             ],
             [
              0.6666666666666666,
              "#ed7953"
             ],
             [
              0.7777777777777778,
              "#fb9f3a"
             ],
             [
              0.8888888888888888,
              "#fdca26"
             ],
             [
              1,
              "#f0f921"
             ]
            ],
            "type": "surface"
           }
          ],
          "table": [
           {
            "cells": {
             "fill": {
              "color": "#EBF0F8"
             },
             "line": {
              "color": "white"
             }
            },
            "header": {
             "fill": {
              "color": "#C8D4E3"
             },
             "line": {
              "color": "white"
             }
            },
            "type": "table"
           }
          ]
         },
         "layout": {
          "annotationdefaults": {
           "arrowcolor": "#2a3f5f",
           "arrowhead": 0,
           "arrowwidth": 1
          },
          "colorscale": {
           "diverging": [
            [
             0,
             "#8e0152"
            ],
            [
             0.1,
             "#c51b7d"
            ],
            [
             0.2,
             "#de77ae"
            ],
            [
             0.3,
             "#f1b6da"
            ],
            [
             0.4,
             "#fde0ef"
            ],
            [
             0.5,
             "#f7f7f7"
            ],
            [
             0.6,
             "#e6f5d0"
            ],
            [
             0.7,
             "#b8e186"
            ],
            [
             0.8,
             "#7fbc41"
            ],
            [
             0.9,
             "#4d9221"
            ],
            [
             1,
             "#276419"
            ]
           ],
           "sequential": [
            [
             0,
             "#0d0887"
            ],
            [
             0.1111111111111111,
             "#46039f"
            ],
            [
             0.2222222222222222,
             "#7201a8"
            ],
            [
             0.3333333333333333,
             "#9c179e"
            ],
            [
             0.4444444444444444,
             "#bd3786"
            ],
            [
             0.5555555555555556,
             "#d8576b"
            ],
            [
             0.6666666666666666,
             "#ed7953"
            ],
            [
             0.7777777777777778,
             "#fb9f3a"
            ],
            [
             0.8888888888888888,
             "#fdca26"
            ],
            [
             1,
             "#f0f921"
            ]
           ],
           "sequentialminus": [
            [
             0,
             "#0d0887"
            ],
            [
             0.1111111111111111,
             "#46039f"
            ],
            [
             0.2222222222222222,
             "#7201a8"
            ],
            [
             0.3333333333333333,
             "#9c179e"
            ],
            [
             0.4444444444444444,
             "#bd3786"
            ],
            [
             0.5555555555555556,
             "#d8576b"
            ],
            [
             0.6666666666666666,
             "#ed7953"
            ],
            [
             0.7777777777777778,
             "#fb9f3a"
            ],
            [
             0.8888888888888888,
             "#fdca26"
            ],
            [
             1,
             "#f0f921"
            ]
           ]
          },
          "colorway": [
           "#636efa",
           "#EF553B",
           "#00cc96",
           "#ab63fa",
           "#FFA15A",
           "#19d3f3",
           "#FF6692",
           "#B6E880",
           "#FF97FF",
           "#FECB52"
          ],
          "font": {
           "color": "#2a3f5f"
          },
          "geo": {
           "bgcolor": "white",
           "lakecolor": "white",
           "landcolor": "#E5ECF6",
           "showlakes": true,
           "showland": true,
           "subunitcolor": "white"
          },
          "hoverlabel": {
           "align": "left"
          },
          "hovermode": "closest",
          "mapbox": {
           "style": "light"
          },
          "paper_bgcolor": "white",
          "plot_bgcolor": "#E5ECF6",
          "polar": {
           "angularaxis": {
            "gridcolor": "white",
            "linecolor": "white",
            "ticks": ""
           },
           "bgcolor": "#E5ECF6",
           "radialaxis": {
            "gridcolor": "white",
            "linecolor": "white",
            "ticks": ""
           }
          },
          "scene": {
           "xaxis": {
            "backgroundcolor": "#E5ECF6",
            "gridcolor": "white",
            "gridwidth": 2,
            "linecolor": "white",
            "showbackground": true,
            "ticks": "",
            "zerolinecolor": "white"
           },
           "yaxis": {
            "backgroundcolor": "#E5ECF6",
            "gridcolor": "white",
            "gridwidth": 2,
            "linecolor": "white",
            "showbackground": true,
            "ticks": "",
            "zerolinecolor": "white"
           },
           "zaxis": {
            "backgroundcolor": "#E5ECF6",
            "gridcolor": "white",
            "gridwidth": 2,
            "linecolor": "white",
            "showbackground": true,
            "ticks": "",
            "zerolinecolor": "white"
           }
          },
          "shapedefaults": {
           "line": {
            "color": "#2a3f5f"
           }
          },
          "ternary": {
           "aaxis": {
            "gridcolor": "white",
            "linecolor": "white",
            "ticks": ""
           },
           "baxis": {
            "gridcolor": "white",
            "linecolor": "white",
            "ticks": ""
           },
           "bgcolor": "#E5ECF6",
           "caxis": {
            "gridcolor": "white",
            "linecolor": "white",
            "ticks": ""
           }
          },
          "title": {
           "x": 0.05
          },
          "xaxis": {
           "automargin": true,
           "gridcolor": "white",
           "linecolor": "white",
           "ticks": "",
           "zerolinecolor": "white",
           "zerolinewidth": 2
          },
          "yaxis": {
           "automargin": true,
           "gridcolor": "white",
           "linecolor": "white",
           "ticks": "",
           "zerolinecolor": "white",
           "zerolinewidth": 2
          }
         }
        },
        "title": {
         "text": "Countries 2013"
        }
       }
      },
      "text/html": [
       "<div>\n",
       "        \n",
       "        \n",
       "            <div id=\"d98a8815-de8c-487b-ba29-5c91687b00c8\" class=\"plotly-graph-div\" style=\"height:525px; width:100%;\"></div>\n",
       "            <script type=\"text/javascript\">\n",
       "                require([\"plotly\"], function(Plotly) {\n",
       "                    window.PLOTLYENV=window.PLOTLYENV || {};\n",
       "                    \n",
       "                if (document.getElementById(\"d98a8815-de8c-487b-ba29-5c91687b00c8\")) {\n",
       "                    Plotly.newPlot(\n",
       "                        'd98a8815-de8c-487b-ba29-5c91687b00c8',\n",
       "                        [{\"lat\": [33, 41, 28, -11, 17, -38, 40, -25, 47, 40, 25, 23, 13, 53, 50, 17, 9, 32, -16, 43, -22, -14, 4, 42, 12, 16, 12, 7, 56, 6, 15, -35, 22, 22, 23, 35, 4, 0, 9, 45, 21, 35, 49, 7, 40, 56, 11, 15, 18, -1, 26, 13, 58, 9, -16, 61, 46, -17, 0, 13, 42, 51, 7, 39, 12, 15, 9, 11, 4, 18, 15, 47, 64, 20, 0, 32, 33, 53, 31, 41, 18, 36, 30, 48, 0, -3, 29, 41, 19, 56, 33, -29, 6, 55, 49, -18, -13, 4, 3, 17, 35, 21, -20, 23, 46, 42, 31, -18, 21, -22, 28, 52, -20, -40, 12, 17, 9, 60, 21, 30, 8, -23, -9, 12, 51, 39, 35, 47, 45, 61, -1, 17, 13, 12, -13, 0, 23, 14, 44, 8, 48, 46, -9, -30, 40, 7, 12, 3, -26, 60, 46, 38, 15, 41, -8, 8, 10, 33, 38, 38, 1, 48, 23, 55, -6, 37, -32, 41, -15, 6, 14, 15, -13, -19], \"lon\": [67, 20, 1, 17, -61, -63, 45, 133, 14, 47, -77, 90, -59, 27, 4, -88, 2, -64, -63, 17, 24, -51, 114, 25, -1, -24, 104, 12, -106, 20, 18, -71, 114, 113, 120, 104, -74, 15, -83, 15, -77, 33, 15, -5, 127, 9, 42, -61, -70, -78, 30, -88, 25, 40, 179, 25, 2, -149, 11, -15, 43, 10, -1, 21, -61, -90, -9, -15, -58, -72, -86, 19, -19, 78, 113, 53, 43, -8, 34, 12, -77, 138, 36, 66, 37, -168, 47, 74, 102, 24, 35, 28, -9, 23, 6, 46, 34, 101, 73, -4, 14, -10, 57, -102, 103, 19, -7, 35, 95, 18, 84, 5, 165, 174, -85, 8, 8, 8, 55, 69, -80, -58, -75, 121, 19, -8, 127, 28, 24, 105, 29, -62, -60, -61, -172, 6, 45, -14, 21, -11, 19, 15, 160, 22, -3, 80, 30, -56, 31, 18, 8, 71, 100, 21, 125, 0, -61, 9, 35, 59, 32, 31, 53, -3, 34, -95, -55, 64, 166, -66, 108, 48, 27, 29], \"marker\": {\"autocolorscale\": false, \"cmax\": 100000, \"cmin\": 0, \"color\": [23007, 8271, 72161, 48639, 119, 80843, 7175, 62446, 24990, 20162, 629, 120854, 469, 37852, 33336, 552, 16481, 106, 13515, 8456, 2272, 439967, 547, 12335, 18980, 721, 13635, 34852, 120167, 4187, 8401, 32900, 11756, 739, 3191155, 40725, 76844, 5200, 8267, 28163, 11467, 26974, 2243, 23978, 24480, 27260, 791, 179, 16879, 19550, 162084, 8355, 3864, 68096, 1246, 16183, 166079, 412, 3037, 1438, 6538, 218891, 54723, 32742, 150, 15415, 12718, 1230, 1683, 9166, 9093, 23635, 818, 1336593, 256888, 146155, 37277, 18160, 19313, 153450, 4216, 188113, 10980, 47099, 48597, 135, 7167, 12527, 10596, 4764, 8682, 1803, 3380, 10206, 1511, 21174, 25233, 38992, 559, 17046, 1003, 4071, 1794, 210121, 3702, 1848, 55676, 28517, 74909, 2800, 36644, 53832, 418, 11071, 6013, 17840, 300923, 15228, 6297, 190505, 5560, 15630, 47731, 113186, 110067, 28049, 97174, 7946, 60797, 370913, 18547, 56, 229, 221, 337, 251, 59594, 10729, 25399, 7946, 10122, 4495, 727, 70240, 137594, 21080, 43661, 752, 1383, 26656, 19550, 14092, 97689, 4368, 855, 6681, 1949, 22823, 180603, 12054, 40944, 153750, 15444, 149979, 59136, 938639, 7792, 67245, 382, 45462, 128111, 18745, 10996, 9786], \"colorbar\": {\"title\": {\"text\": \"Food production (1000 tonnes)\"}}, \"colorscale\": [[0.0, \"rgb(247,251,255)\"], [0.125, \"rgb(222,235,247)\"], [0.25, \"rgb(198,219,239)\"], [0.375, \"rgb(158,202,225)\"], [0.5, \"rgb(107,174,214)\"], [0.625, \"rgb(66,146,198)\"], [0.75, \"rgb(33,113,181)\"], [0.875, \"rgb(8,81,156)\"], [1.0, \"rgb(8,48,107)\"]], \"line\": {\"color\": \"rgba(102, 102, 102)\", \"width\": 1}, \"opacity\": 0.8, \"reversescale\": false, \"size\": 8, \"symbol\": \"square\"}, \"mode\": \"markers\", \"text\": [\"Afghanistan\", \"Albania\", \"Algeria\", \"Angola\", \"Antigua and Barbuda\", \"Argentina\", \"Armenia\", \"Australia\", \"Austria\", \"Azerbaijan\", \"Bahamas\", \"Bangladesh\", \"Barbados\", \"Belarus\", \"Belgium\", \"Belize\", \"Benin\", \"Bermuda\", \"Bolivia (Plurinational State of)\", \"Bosnia and Herzegovina\", \"Botswana\", \"Brazil\", \"Brunei Darussalam\", \"Bulgaria\", \"Burkina Faso\", \"Cabo Verde\", \"Cambodia\", \"Cameroon\", \"Canada\", \"Central African Republic\", \"Chad\", \"Chile\", \"China, Hong Kong SAR\", \"China, Macao SAR\", \"China, Taiwan Province of\", \"China, mainland\", \"Colombia\", \"Congo\", \"Costa Rica\", \"Croatia\", \"Cuba\", \"Cyprus\", \"Czechia\", \"C\\ufffdte d'Ivoire\", \"Democratic People's Republic of Korea\", \"Denmark\", \"Djibouti\", \"Dominica\", \"Dominican Republic\", \"Ecuador\", \"Egypt\", \"El Salvador\", \"Estonia\", \"Ethiopia\", \"Fiji\", \"Finland\", \"France\", \"French Polynesia\", \"Gabon\", \"Gambia\", \"Georgia\", \"Germany\", \"Ghana\", \"Greece\", \"Grenada\", \"Guatemala\", \"Guinea\", \"Guinea-Bissau\", \"Guyana\", \"Haiti\", \"Honduras\", \"Hungary\", \"Iceland\", \"India\", \"Indonesia\", \"Iran (Islamic Republic of)\", \"Iraq\", \"Ireland\", \"Israel\", \"Italy\", \"Jamaica\", \"Japan\", \"Jordan\", \"Kazakhstan\", \"Kenya\", \"Kiribati\", \"Kuwait\", \"Kyrgyzstan\", \"Lao People's Democratic Republic\", \"Latvia\", \"Lebanon\", \"Lesotho\", \"Liberia\", \"Lithuania\", \"Luxembourg\", \"Madagascar\", \"Malawi\", \"Malaysia\", \"Maldives\", \"Mali\", \"Malta\", \"Mauritania\", \"Mauritius\", \"Mexico\", \"Mongolia\", \"Montenegro\", \"Morocco\", \"Mozambique\", \"Myanmar\", \"Namibia\", \"Nepal\", \"Netherlands\", \"New Caledonia\", \"New Zealand\", \"Nicaragua\", \"Niger\", \"Nigeria\", \"Norway\", \"Oman\", \"Pakistan\", \"Panama\", \"Paraguay\", \"Peru\", \"Philippines\", \"Poland\", \"Portugal\", \"Republic of Korea\", \"Republic of Moldova\", \"Romania\", \"Russian Federation\", \"Rwanda\", \"Saint Kitts and Nevis\", \"Saint Lucia\", \"Saint Vincent and the Grenadines\", \"Samoa\", \"Sao Tome and Principe\", \"Saudi Arabia\", \"Senegal\", \"Serbia\", \"Sierra Leone\", \"Slovakia\", \"Slovenia\", \"Solomon Islands\", \"South Africa\", \"Spain\", \"Sri Lanka\", \"Sudan\", \"Suriname\", \"Swaziland\", \"Sweden\", \"Switzerland\", \"Tajikistan\", \"Thailand\", \"The former Yugoslav Republic of Macedonia\", \"Timor-Leste\", \"Togo\", \"Trinidad and Tobago\", \"Tunisia\", \"Turkey\", \"Turkmenistan\", \"Uganda\", \"Ukraine\", \"United Arab Emirates\", \"United Kingdom\", \"United Republic of Tanzania\", \"United States of America\", \"Uruguay\", \"Uzbekistan\", \"Vanuatu\", \"Venezuela (Bolivarian Republic of)\", \"Viet Nam\", \"Yemen\", \"Zambia\", \"Zimbabwe\"], \"type\": \"scattergeo\"}],\n",
       "                        {\"geo\": {\"countrycolor\": \"rgb(217, 217, 217)\", \"countrywidth\": 0.5, \"landcolor\": \"rgb(250, 250, 250)\", \"scope\": \"world\", \"showland\": true, \"subunitcolor\": \"rgb(217, 217, 217)\", \"subunitwidth\": 0.5}, \"template\": {\"data\": {\"bar\": [{\"error_x\": {\"color\": \"#2a3f5f\"}, \"error_y\": {\"color\": \"#2a3f5f\"}, \"marker\": {\"line\": {\"color\": \"#E5ECF6\", \"width\": 0.5}}, \"type\": \"bar\"}], \"barpolar\": [{\"marker\": {\"line\": {\"color\": \"#E5ECF6\", \"width\": 0.5}}, \"type\": \"barpolar\"}], \"carpet\": [{\"aaxis\": {\"endlinecolor\": \"#2a3f5f\", \"gridcolor\": \"white\", \"linecolor\": \"white\", \"minorgridcolor\": \"white\", \"startlinecolor\": \"#2a3f5f\"}, \"baxis\": {\"endlinecolor\": \"#2a3f5f\", \"gridcolor\": \"white\", \"linecolor\": \"white\", \"minorgridcolor\": \"white\", \"startlinecolor\": \"#2a3f5f\"}, \"type\": \"carpet\"}], \"choropleth\": [{\"colorbar\": {\"outlinewidth\": 0, \"ticks\": \"\"}, \"type\": \"choropleth\"}], \"contour\": [{\"colorbar\": {\"outlinewidth\": 0, \"ticks\": \"\"}, \"colorscale\": [[0.0, \"#0d0887\"], [0.1111111111111111, \"#46039f\"], [0.2222222222222222, \"#7201a8\"], [0.3333333333333333, \"#9c179e\"], [0.4444444444444444, \"#bd3786\"], [0.5555555555555556, \"#d8576b\"], [0.6666666666666666, \"#ed7953\"], [0.7777777777777778, \"#fb9f3a\"], [0.8888888888888888, \"#fdca26\"], [1.0, \"#f0f921\"]], \"type\": \"contour\"}], \"contourcarpet\": [{\"colorbar\": {\"outlinewidth\": 0, \"ticks\": \"\"}, \"type\": \"contourcarpet\"}], \"heatmap\": [{\"colorbar\": {\"outlinewidth\": 0, \"ticks\": \"\"}, \"colorscale\": [[0.0, \"#0d0887\"], [0.1111111111111111, \"#46039f\"], [0.2222222222222222, \"#7201a8\"], [0.3333333333333333, \"#9c179e\"], [0.4444444444444444, \"#bd3786\"], [0.5555555555555556, \"#d8576b\"], [0.6666666666666666, \"#ed7953\"], [0.7777777777777778, \"#fb9f3a\"], [0.8888888888888888, \"#fdca26\"], [1.0, \"#f0f921\"]], \"type\": \"heatmap\"}], \"heatmapgl\": [{\"colorbar\": {\"outlinewidth\": 0, \"ticks\": \"\"}, \"colorscale\": [[0.0, \"#0d0887\"], [0.1111111111111111, \"#46039f\"], [0.2222222222222222, \"#7201a8\"], [0.3333333333333333, \"#9c179e\"], [0.4444444444444444, \"#bd3786\"], [0.5555555555555556, \"#d8576b\"], [0.6666666666666666, \"#ed7953\"], [0.7777777777777778, \"#fb9f3a\"], [0.8888888888888888, \"#fdca26\"], [1.0, \"#f0f921\"]], \"type\": \"heatmapgl\"}], \"histogram\": [{\"marker\": {\"colorbar\": {\"outlinewidth\": 0, \"ticks\": \"\"}}, \"type\": \"histogram\"}], \"histogram2d\": [{\"colorbar\": {\"outlinewidth\": 0, \"ticks\": \"\"}, \"colorscale\": [[0.0, \"#0d0887\"], [0.1111111111111111, \"#46039f\"], [0.2222222222222222, \"#7201a8\"], [0.3333333333333333, \"#9c179e\"], [0.4444444444444444, \"#bd3786\"], [0.5555555555555556, \"#d8576b\"], [0.6666666666666666, \"#ed7953\"], [0.7777777777777778, \"#fb9f3a\"], [0.8888888888888888, \"#fdca26\"], [1.0, \"#f0f921\"]], \"type\": \"histogram2d\"}], \"histogram2dcontour\": [{\"colorbar\": {\"outlinewidth\": 0, \"ticks\": \"\"}, \"colorscale\": [[0.0, \"#0d0887\"], [0.1111111111111111, \"#46039f\"], [0.2222222222222222, \"#7201a8\"], [0.3333333333333333, \"#9c179e\"], [0.4444444444444444, \"#bd3786\"], [0.5555555555555556, \"#d8576b\"], [0.6666666666666666, \"#ed7953\"], [0.7777777777777778, \"#fb9f3a\"], [0.8888888888888888, \"#fdca26\"], [1.0, \"#f0f921\"]], \"type\": \"histogram2dcontour\"}], \"mesh3d\": [{\"colorbar\": {\"outlinewidth\": 0, \"ticks\": \"\"}, \"type\": \"mesh3d\"}], \"parcoords\": [{\"line\": {\"colorbar\": {\"outlinewidth\": 0, \"ticks\": \"\"}}, \"type\": \"parcoords\"}], \"scatter\": [{\"marker\": {\"colorbar\": {\"outlinewidth\": 0, \"ticks\": \"\"}}, \"type\": \"scatter\"}], \"scatter3d\": [{\"line\": {\"colorbar\": {\"outlinewidth\": 0, \"ticks\": \"\"}}, \"marker\": {\"colorbar\": {\"outlinewidth\": 0, \"ticks\": \"\"}}, \"type\": \"scatter3d\"}], \"scattercarpet\": [{\"marker\": {\"colorbar\": {\"outlinewidth\": 0, \"ticks\": \"\"}}, \"type\": \"scattercarpet\"}], \"scattergeo\": [{\"marker\": {\"colorbar\": {\"outlinewidth\": 0, \"ticks\": \"\"}}, \"type\": \"scattergeo\"}], \"scattergl\": [{\"marker\": {\"colorbar\": {\"outlinewidth\": 0, \"ticks\": \"\"}}, \"type\": \"scattergl\"}], \"scattermapbox\": [{\"marker\": {\"colorbar\": {\"outlinewidth\": 0, \"ticks\": \"\"}}, \"type\": \"scattermapbox\"}], \"scatterpolar\": [{\"marker\": {\"colorbar\": {\"outlinewidth\": 0, \"ticks\": \"\"}}, \"type\": \"scatterpolar\"}], \"scatterpolargl\": [{\"marker\": {\"colorbar\": {\"outlinewidth\": 0, \"ticks\": \"\"}}, \"type\": \"scatterpolargl\"}], \"scatterternary\": [{\"marker\": {\"colorbar\": {\"outlinewidth\": 0, \"ticks\": \"\"}}, \"type\": \"scatterternary\"}], \"surface\": [{\"colorbar\": {\"outlinewidth\": 0, \"ticks\": \"\"}, \"colorscale\": [[0.0, \"#0d0887\"], [0.1111111111111111, \"#46039f\"], [0.2222222222222222, \"#7201a8\"], [0.3333333333333333, \"#9c179e\"], [0.4444444444444444, \"#bd3786\"], [0.5555555555555556, \"#d8576b\"], [0.6666666666666666, \"#ed7953\"], [0.7777777777777778, \"#fb9f3a\"], [0.8888888888888888, \"#fdca26\"], [1.0, \"#f0f921\"]], \"type\": \"surface\"}], \"table\": [{\"cells\": {\"fill\": {\"color\": \"#EBF0F8\"}, \"line\": {\"color\": \"white\"}}, \"header\": {\"fill\": {\"color\": \"#C8D4E3\"}, \"line\": {\"color\": \"white\"}}, \"type\": \"table\"}]}, \"layout\": {\"annotationdefaults\": {\"arrowcolor\": \"#2a3f5f\", \"arrowhead\": 0, \"arrowwidth\": 1}, \"colorscale\": {\"diverging\": [[0, \"#8e0152\"], [0.1, \"#c51b7d\"], [0.2, \"#de77ae\"], [0.3, \"#f1b6da\"], [0.4, \"#fde0ef\"], [0.5, \"#f7f7f7\"], [0.6, \"#e6f5d0\"], [0.7, \"#b8e186\"], [0.8, \"#7fbc41\"], [0.9, \"#4d9221\"], [1, \"#276419\"]], \"sequential\": [[0.0, \"#0d0887\"], [0.1111111111111111, \"#46039f\"], [0.2222222222222222, \"#7201a8\"], [0.3333333333333333, \"#9c179e\"], [0.4444444444444444, \"#bd3786\"], [0.5555555555555556, \"#d8576b\"], [0.6666666666666666, \"#ed7953\"], [0.7777777777777778, \"#fb9f3a\"], [0.8888888888888888, \"#fdca26\"], [1.0, \"#f0f921\"]], \"sequentialminus\": [[0.0, \"#0d0887\"], [0.1111111111111111, \"#46039f\"], [0.2222222222222222, \"#7201a8\"], [0.3333333333333333, \"#9c179e\"], [0.4444444444444444, \"#bd3786\"], [0.5555555555555556, \"#d8576b\"], [0.6666666666666666, \"#ed7953\"], [0.7777777777777778, \"#fb9f3a\"], [0.8888888888888888, \"#fdca26\"], [1.0, \"#f0f921\"]]}, \"colorway\": [\"#636efa\", \"#EF553B\", \"#00cc96\", \"#ab63fa\", \"#FFA15A\", \"#19d3f3\", \"#FF6692\", \"#B6E880\", \"#FF97FF\", \"#FECB52\"], \"font\": {\"color\": \"#2a3f5f\"}, \"geo\": {\"bgcolor\": \"white\", \"lakecolor\": \"white\", \"landcolor\": \"#E5ECF6\", \"showlakes\": true, \"showland\": true, \"subunitcolor\": \"white\"}, \"hoverlabel\": {\"align\": \"left\"}, \"hovermode\": \"closest\", \"mapbox\": {\"style\": \"light\"}, \"paper_bgcolor\": \"white\", \"plot_bgcolor\": \"#E5ECF6\", \"polar\": {\"angularaxis\": {\"gridcolor\": \"white\", \"linecolor\": \"white\", \"ticks\": \"\"}, \"bgcolor\": \"#E5ECF6\", \"radialaxis\": {\"gridcolor\": \"white\", \"linecolor\": \"white\", \"ticks\": \"\"}}, \"scene\": {\"xaxis\": {\"backgroundcolor\": \"#E5ECF6\", \"gridcolor\": \"white\", \"gridwidth\": 2, \"linecolor\": \"white\", \"showbackground\": true, \"ticks\": \"\", \"zerolinecolor\": \"white\"}, \"yaxis\": {\"backgroundcolor\": \"#E5ECF6\", \"gridcolor\": \"white\", \"gridwidth\": 2, \"linecolor\": \"white\", \"showbackground\": true, \"ticks\": \"\", \"zerolinecolor\": \"white\"}, \"zaxis\": {\"backgroundcolor\": \"#E5ECF6\", \"gridcolor\": \"white\", \"gridwidth\": 2, \"linecolor\": \"white\", \"showbackground\": true, \"ticks\": \"\", \"zerolinecolor\": \"white\"}}, \"shapedefaults\": {\"line\": {\"color\": \"#2a3f5f\"}}, \"ternary\": {\"aaxis\": {\"gridcolor\": \"white\", \"linecolor\": \"white\", \"ticks\": \"\"}, \"baxis\": {\"gridcolor\": \"white\", \"linecolor\": \"white\", \"ticks\": \"\"}, \"bgcolor\": \"#E5ECF6\", \"caxis\": {\"gridcolor\": \"white\", \"linecolor\": \"white\", \"ticks\": \"\"}}, \"title\": {\"x\": 0.05}, \"xaxis\": {\"automargin\": true, \"gridcolor\": \"white\", \"linecolor\": \"white\", \"ticks\": \"\", \"zerolinecolor\": \"white\", \"zerolinewidth\": 2}, \"yaxis\": {\"automargin\": true, \"gridcolor\": \"white\", \"linecolor\": \"white\", \"ticks\": \"\", \"zerolinecolor\": \"white\", \"zerolinewidth\": 2}}}, \"title\": {\"text\": \"Countries 2013\"}},\n",
       "                        {\"responsive\": true}\n",
       "                    ).then(function(){\n",
       "                            \n",
       "var gd = document.getElementById('d98a8815-de8c-487b-ba29-5c91687b00c8');\n",
       "var x = new MutationObserver(function (mutations, observer) {{\n",
       "        var display = window.getComputedStyle(gd).display;\n",
       "        if (!display || display === 'none') {{\n",
       "            console.log([gd, 'removed!']);\n",
       "            Plotly.purge(gd);\n",
       "            observer.disconnect();\n",
       "        }}\n",
       "}});\n",
       "\n",
       "// Listen for the removal of the full notebook cells\n",
       "var notebookContainer = gd.closest('#notebook-container');\n",
       "if (notebookContainer) {{\n",
       "    x.observe(notebookContainer, {childList: true});\n",
       "}}\n",
       "\n",
       "// Listen for the clearing of the current output cell\n",
       "var outputEl = gd.closest('.output');\n",
       "if (outputEl) {{\n",
       "    x.observe(outputEl, {childList: true});\n",
       "}}\n",
       "\n",
       "                        })\n",
       "                };\n",
       "                });\n",
       "            </script>\n",
       "        </div>"
      ]
     },
     "metadata": {},
     "output_type": "display_data"
    }
   ],
   "source": [
    "S = Spark(sc)\n",
    "S.plot_production_world(2013)"
   ]
  },
  {
   "cell_type": "code",
   "execution_count": null,
   "metadata": {},
   "outputs": [],
   "source": []
  }
 ],
 "metadata": {
  "kernelspec": {
   "display_name": "Python 3",
   "language": "python",
   "name": "python3"
  },
  "language_info": {
   "codemirror_mode": {
    "name": "ipython",
    "version": 3
   },
   "file_extension": ".py",
   "mimetype": "text/x-python",
   "name": "python",
   "nbconvert_exporter": "python",
   "pygments_lexer": "ipython3",
   "version": "3.7.3"
  }
 },
 "nbformat": 4,
 "nbformat_minor": 2
}
