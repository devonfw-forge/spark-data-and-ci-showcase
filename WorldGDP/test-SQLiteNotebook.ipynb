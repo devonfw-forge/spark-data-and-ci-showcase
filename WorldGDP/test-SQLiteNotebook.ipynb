{
 "cells": [
  {
   "cell_type": "code",
   "execution_count": 6,
   "metadata": {},
   "outputs": [],
   "source": [
    "import unittest\n",
    "from pyspark import SparkContext\n",
    "from SQLiteNotebook import Spark_SQLite"
   ]
  },
  {
   "cell_type": "code",
   "execution_count": 13,
   "metadata": {},
   "outputs": [
    {
     "name": "stderr",
     "output_type": "stream",
     "text": [
      "test_list_countries (__main__.TestSQLiteNotebook) ... /opt/conda/lib/python3.7/socket.py:660: ResourceWarning:\n",
      "\n",
      "unclosed <socket.socket fd=61, family=AddressFamily.AF_INET, type=SocketKind.SOCK_STREAM, proto=6, laddr=('127.0.0.1', 50888), raddr=('127.0.0.1', 39431)>\n",
      "\n",
      "ok\n",
      "\n",
      "----------------------------------------------------------------------\n",
      "Ran 1 test in 0.810s\n",
      "\n",
      "OK\n"
     ]
    },
    {
     "data": {
      "text/plain": [
       "<unittest.main.TestProgram at 0x7fc4cb7f55f8>"
      ]
     },
     "execution_count": 13,
     "metadata": {},
     "output_type": "execute_result"
    }
   ],
   "source": [
    "class TestSQLiteNotebook(unittest.TestCase):\n",
    "    \n",
    "    def setUp(self):\n",
    "        self.S = Spark_SQLite() \n",
    "        \n",
    "    def test_list_countries(self):\n",
    "        pandaDF = self.S.createGDPPandaDF()\n",
    "        sparkDF = self.S.createSparkDFfromPandaDF(pandaDF)\n",
    "        sparkDF_filtered = self.S.replaceNullValuesTo0fromSparkDF(sparkDF, \"all\", [\"gdp\", \"growth\"])\n",
    "        pandaDF_filtered = sparkDF_filtered.toPandas()\n",
    "        self.assertEqual(pandaDF_filtered['growth'][0],0.0)\n",
    "\n",
    "\n",
    "unittest.main(argv=[''], verbosity=2, exit=False)"
   ]
  },
  {
   "cell_type": "code",
   "execution_count": null,
   "metadata": {},
   "outputs": [],
   "source": []
  }
 ],
 "metadata": {
  "kernelspec": {
   "display_name": "Python 3",
   "language": "python",
   "name": "python3"
  },
  "language_info": {
   "codemirror_mode": {
    "name": "ipython",
    "version": 3
   },
   "file_extension": ".py",
   "mimetype": "text/x-python",
   "name": "python",
   "nbconvert_exporter": "python",
   "pygments_lexer": "ipython3",
   "version": "3.7.3"
  }
 },
 "nbformat": 4,
 "nbformat_minor": 2
}
